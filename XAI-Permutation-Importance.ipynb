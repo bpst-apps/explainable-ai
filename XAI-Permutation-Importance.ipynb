{
 "cells": [
  {
   "attachments": {},
   "cell_type": "markdown",
   "id": "5a6ba7da",
   "metadata": {},
   "source": [
    "# Building Explainable Machine Learning Models\n",
    "\n",
    "## Permutation Feature Importance\n",
    "\n",
    "* What features does a model think are important?\n",
    "* Which features might have a greater impact on the model predictions than others? \n",
    "\n",
    "This concept is called **feature importance** and **Permutation Importance** is a technique used widely for calculating feature importance. \n",
    "\n",
    "<div class=\"alert alert-block alert-info\">\n",
    "    \n",
    "* Permutation Importance sheds light on which features are most important to any machine learning algorithm. This technique was introduced by Bremen in his [Random Forests Paper](https://doi.org/10.1023/A:1010933404324) and based on this idea [Aaron Fisher, Cynthia Rudin, Francesca Dominici ](https://arxiv.org/abs/1801.01489) proposed model agnostic version of the feature importance which they called **Model Reliance**.\n",
    "    \n",
    "* Permutation importance is calculated after a model has been fitted. \n",
    "    \n",
    "* Also make sure that the model has a good predictive performance or in other words you have trained a good model before inspecting the importance of its features. There is no point in investigating a bad model.\n",
    "    \n",
    "</div>\n",
    "\n",
    "\n",
    "---\n",
    "\n",
    "## Case Study: Diagnosing Heart Disease\n",
    "\n",
    "We are given some diagnostic data of few patients.The objective of the dataset is to predict where the patient has a heart disease or not based on the other diagnostic measurements provided in the dataset.\n",
    "\n",
    "<img src=https://cdn.pixabay.com/photo/2018/10/05/05/19/stethoscope-3725131_960_720.png alt=\"Heart\" width=\"500\" height=\"600\">"
   ]
  },
  {
   "cell_type": "markdown",
   "id": "0cb4f8ed",
   "metadata": {},
   "source": [
    "## Importing Necessary Libraries\n",
    "\n",
    "Let’s start by importing the necessary libraries."
   ]
  },
  {
   "cell_type": "code",
   "execution_count": 2,
   "id": "defe8a03",
   "metadata": {},
   "outputs": [],
   "source": [
    "import numpy as np   \n",
    "import pandas as pd   \n",
    "import matplotlib.pyplot as plt\n",
    "import seaborn as sns \n",
    "%matplotlib inline\n",
    "\n",
    "from sklearn.model_selection import train_test_split  \n",
    "from sklearn.ensemble import RandomForestClassifier  \n",
    "from sklearn.tree import DecisionTreeClassifier\n",
    "from sklearn.tree import export_graphviz # plot tree\n",
    "from sklearn.metrics import roc_curve, auc # for model evaluation\n",
    "from sklearn.metrics import classification_report # for model evaluation\n",
    "from sklearn.metrics import confusion_matrix # for model evaluation\n",
    "np.random.seed(123) # ensure reproducibility\n",
    "\n",
    "import warnings  \n",
    "warnings.filterwarnings(\"ignore\")"
   ]
  },
  {
   "cell_type": "code",
   "execution_count": 3,
   "id": "bdcf2156",
   "metadata": {},
   "outputs": [],
   "source": [
    "# setting up the styling for the plots in this notebook\n",
    "sns.set(style=\"white\", palette=\"colorblind\", font_scale=1.2, rc={\"figure.figsize\":(12,8)})"
   ]
  },
  {
   "cell_type": "markdown",
   "id": "ccd701dc",
   "metadata": {},
   "source": [
    "##  Reading in the Dataset\n",
    "\n",
    "The dataset used is called the **Heart disease data**  and is hosted at the UCI Machine Learning repository and available at this [link](https://archive.ics.uci.edu/ml/datasets/Heart+Disease).The dataset used in this notebook belongs to the [Kaggle version and can be accessed here](https://www.kaggle.com/ronitf/heart-disease-uci). The objective of the dataset is to predict where the patient has a heart disease or not based on the other diagnostic measurements provided in the dataset.\n",
    "\n",
    "\n",
    "\n",
    "> **Source**:\n",
    ">\n",
    "> Creators:\n",
    ">\n",
    ">1. Hungarian Institute of Cardiology. Budapest: Andras Janosi, M.D.\n",
    ">2. University Hospital, Zurich, Switzerland: William Steinbrunn, M.D.\n",
    ">3. University Hospital, Basel, Switzerland: Matthias Pfisterer, M.D.\n",
    ">4. V.A. Medical Center, Long Beach and Cleveland Clinic Foundation: Robert Detrano, M.D., Ph.D.\n",
    ">\n",
    "> Donor:\n",
    ">\n",
    ">David W. Aha (aha '@' ics.uci.edu) (714) 856-8779\n",
    "\n",
    "Let’s read in the data and look at the first few rows"
   ]
  },
  {
   "cell_type": "code",
   "execution_count": 4,
   "id": "3b4b66be",
   "metadata": {},
   "outputs": [
    {
     "data": {
      "text/html": [
       "<div>\n",
       "<style scoped>\n",
       "    .dataframe tbody tr th:only-of-type {\n",
       "        vertical-align: middle;\n",
       "    }\n",
       "\n",
       "    .dataframe tbody tr th {\n",
       "        vertical-align: top;\n",
       "    }\n",
       "\n",
       "    .dataframe thead th {\n",
       "        text-align: right;\n",
       "    }\n",
       "</style>\n",
       "<table border=\"1\" class=\"dataframe\">\n",
       "  <thead>\n",
       "    <tr style=\"text-align: right;\">\n",
       "      <th></th>\n",
       "      <th>age</th>\n",
       "      <th>sex</th>\n",
       "      <th>cp</th>\n",
       "      <th>trestbps</th>\n",
       "      <th>chol</th>\n",
       "      <th>fbs</th>\n",
       "      <th>restecg</th>\n",
       "      <th>thalach</th>\n",
       "      <th>exang</th>\n",
       "      <th>oldpeak</th>\n",
       "      <th>slope</th>\n",
       "      <th>ca</th>\n",
       "      <th>thal</th>\n",
       "      <th>target</th>\n",
       "    </tr>\n",
       "  </thead>\n",
       "  <tbody>\n",
       "    <tr>\n",
       "      <th>0</th>\n",
       "      <td>63</td>\n",
       "      <td>1</td>\n",
       "      <td>3</td>\n",
       "      <td>145</td>\n",
       "      <td>233</td>\n",
       "      <td>1</td>\n",
       "      <td>0</td>\n",
       "      <td>150</td>\n",
       "      <td>0</td>\n",
       "      <td>2.3</td>\n",
       "      <td>0</td>\n",
       "      <td>0</td>\n",
       "      <td>1</td>\n",
       "      <td>1</td>\n",
       "    </tr>\n",
       "    <tr>\n",
       "      <th>1</th>\n",
       "      <td>37</td>\n",
       "      <td>1</td>\n",
       "      <td>2</td>\n",
       "      <td>130</td>\n",
       "      <td>250</td>\n",
       "      <td>0</td>\n",
       "      <td>1</td>\n",
       "      <td>187</td>\n",
       "      <td>0</td>\n",
       "      <td>3.5</td>\n",
       "      <td>0</td>\n",
       "      <td>0</td>\n",
       "      <td>2</td>\n",
       "      <td>1</td>\n",
       "    </tr>\n",
       "    <tr>\n",
       "      <th>2</th>\n",
       "      <td>41</td>\n",
       "      <td>0</td>\n",
       "      <td>1</td>\n",
       "      <td>130</td>\n",
       "      <td>204</td>\n",
       "      <td>0</td>\n",
       "      <td>0</td>\n",
       "      <td>172</td>\n",
       "      <td>0</td>\n",
       "      <td>1.4</td>\n",
       "      <td>2</td>\n",
       "      <td>0</td>\n",
       "      <td>2</td>\n",
       "      <td>1</td>\n",
       "    </tr>\n",
       "    <tr>\n",
       "      <th>3</th>\n",
       "      <td>56</td>\n",
       "      <td>1</td>\n",
       "      <td>1</td>\n",
       "      <td>120</td>\n",
       "      <td>236</td>\n",
       "      <td>0</td>\n",
       "      <td>1</td>\n",
       "      <td>178</td>\n",
       "      <td>0</td>\n",
       "      <td>0.8</td>\n",
       "      <td>2</td>\n",
       "      <td>0</td>\n",
       "      <td>2</td>\n",
       "      <td>1</td>\n",
       "    </tr>\n",
       "    <tr>\n",
       "      <th>4</th>\n",
       "      <td>57</td>\n",
       "      <td>0</td>\n",
       "      <td>0</td>\n",
       "      <td>120</td>\n",
       "      <td>354</td>\n",
       "      <td>0</td>\n",
       "      <td>1</td>\n",
       "      <td>163</td>\n",
       "      <td>1</td>\n",
       "      <td>0.6</td>\n",
       "      <td>2</td>\n",
       "      <td>0</td>\n",
       "      <td>2</td>\n",
       "      <td>1</td>\n",
       "    </tr>\n",
       "  </tbody>\n",
       "</table>\n",
       "</div>"
      ],
      "text/plain": [
       "   age  sex  cp  trestbps  chol  fbs  restecg  thalach  exang  oldpeak  slope  \\\n",
       "0   63    1   3       145   233    1        0      150      0      2.3      0   \n",
       "1   37    1   2       130   250    0        1      187      0      3.5      0   \n",
       "2   41    0   1       130   204    0        0      172      0      1.4      2   \n",
       "3   56    1   1       120   236    0        1      178      0      0.8      2   \n",
       "4   57    0   0       120   354    0        1      163      1      0.6      2   \n",
       "\n",
       "   ca  thal  target  \n",
       "0   0     1       1  \n",
       "1   0     2       1  \n",
       "2   0     2       1  \n",
       "3   0     2       1  \n",
       "4   0     2       1  "
      ]
     },
     "execution_count": 4,
     "metadata": {},
     "output_type": "execute_result"
    }
   ],
   "source": [
    "df = pd.read_csv('heart_disease.csv')\n",
    "df.head()"
   ]
  },
  {
   "cell_type": "markdown",
   "id": "24443c6d",
   "metadata": {},
   "source": [
    "-   **age**: The person's age in years\n",
    "-   **sex**: The person's sex (1 = male, 0 = female)\n",
    "-   **cp:**  The chest pain experienced (Value 1: typical angina, Value 2: atypical angina, Value 3: non-anginal pain, Value 4: asymptomatic)\n",
    "-   **trestbps:**  The person's resting blood pressure (mm Hg on admission to the hospital)\n",
    "-   **chol:**  The person's cholesterol measurement in mg/dl\n",
    "-   **fbs:**  The person's fasting blood sugar (> 120 mg/dl, 1 = true; 0 = false)\n",
    "-   **restecg:**  Resting electrocardiographic measurement (0 = normal, 1 = having ST-T wave abnormality, 2 = showing probable or definite left ventricular hypertrophy by Estes' criteria)\n",
    "-   **thalach:**  The person's maximum heart rate achieved\n",
    "-   **exang:**  Exercise induced angina (1 = yes; 0 = no)\n",
    "-   **oldpeak:**  ST depression induced by exercise relative to rest ('ST' relates to positions on the ECG plot. See more  [here](https://litfl.com/st-segment-ecg-library/))\n",
    "-   **slope:**  the slope of the peak exercise ST segment (Value 1: upsloping, Value 2: flat, Value 3: downsloping)\n",
    "-   **ca:**  The number of major vessels (0-3)\n",
    "-   **thal:**  A blood disorder called thalassemia (3 = normal; 6 = fixed defect; 7 = reversable defect)\n",
    "-   **target:**  Heart disease (0 = no, 1 = yes)\n",
    "\n",
    "\n",
    "\n",
    "\n",
    "As can be seen, the dataset consists of various predictor variables like `age`, `sex`, `cholestrol`, etc, and one target variable, `target`. The `target` variable is `1` if the patient has a heart disease and `0` for no heart disease. It is a classic binary classification problem. "
   ]
  },
  {
   "cell_type": "code",
   "execution_count": 5,
   "id": "207cf263",
   "metadata": {},
   "outputs": [
    {
     "name": "stdout",
     "output_type": "stream",
     "text": [
      "<class 'pandas.core.frame.DataFrame'>\n",
      "RangeIndex: 303 entries, 0 to 302\n",
      "Data columns (total 14 columns):\n",
      " #   Column    Non-Null Count  Dtype  \n",
      "---  ------    --------------  -----  \n",
      " 0   age       303 non-null    int64  \n",
      " 1   sex       303 non-null    int64  \n",
      " 2   cp        303 non-null    int64  \n",
      " 3   trestbps  303 non-null    int64  \n",
      " 4   chol      303 non-null    int64  \n",
      " 5   fbs       303 non-null    int64  \n",
      " 6   restecg   303 non-null    int64  \n",
      " 7   thalach   303 non-null    int64  \n",
      " 8   exang     303 non-null    int64  \n",
      " 9   oldpeak   303 non-null    float64\n",
      " 10  slope     303 non-null    int64  \n",
      " 11  ca        303 non-null    int64  \n",
      " 12  thal      303 non-null    int64  \n",
      " 13  target    303 non-null    int64  \n",
      "dtypes: float64(1), int64(13)\n",
      "memory usage: 33.3 KB\n"
     ]
    }
   ],
   "source": [
    "df.info()"
   ]
  },
  {
   "cell_type": "markdown",
   "id": "25e29ed2",
   "metadata": {},
   "source": [
    "There are no missing values and no string columns in the given dataset."
   ]
  },
  {
   "cell_type": "code",
   "execution_count": 6,
   "id": "cb65ed63",
   "metadata": {},
   "outputs": [
    {
     "data": {
      "text/plain": [
       "1    165\n",
       "0    138\n",
       "Name: target, dtype: int64"
      ]
     },
     "execution_count": 6,
     "metadata": {},
     "output_type": "execute_result"
    }
   ],
   "source": [
    "# Inspecting Distribution of Target Variable\n",
    "df['target'].value_counts()"
   ]
  },
  {
   "cell_type": "markdown",
   "id": "475c6b6f",
   "metadata": {},
   "source": [
    "## Data Preparation \n",
    "\n",
    "### Renaming Columns\n",
    "Let's change the column names to be a bit clearer."
   ]
  },
  {
   "cell_type": "code",
   "execution_count": 7,
   "id": "3b61622c",
   "metadata": {},
   "outputs": [
    {
     "data": {
      "text/html": [
       "<div>\n",
       "<style scoped>\n",
       "    .dataframe tbody tr th:only-of-type {\n",
       "        vertical-align: middle;\n",
       "    }\n",
       "\n",
       "    .dataframe tbody tr th {\n",
       "        vertical-align: top;\n",
       "    }\n",
       "\n",
       "    .dataframe thead th {\n",
       "        text-align: right;\n",
       "    }\n",
       "</style>\n",
       "<table border=\"1\" class=\"dataframe\">\n",
       "  <thead>\n",
       "    <tr style=\"text-align: right;\">\n",
       "      <th></th>\n",
       "      <th>age</th>\n",
       "      <th>sex</th>\n",
       "      <th>chest_pain_type</th>\n",
       "      <th>resting_blood_pressure</th>\n",
       "      <th>cholesterol</th>\n",
       "      <th>fasting_blood_sugar</th>\n",
       "      <th>rest_ecg</th>\n",
       "      <th>max_heart_rate_achieved</th>\n",
       "      <th>exercise_induced_angina</th>\n",
       "      <th>st_depression</th>\n",
       "      <th>st_slope</th>\n",
       "      <th>num_major_vessels</th>\n",
       "      <th>thalassemia</th>\n",
       "      <th>target</th>\n",
       "    </tr>\n",
       "  </thead>\n",
       "  <tbody>\n",
       "    <tr>\n",
       "      <th>0</th>\n",
       "      <td>63</td>\n",
       "      <td>1</td>\n",
       "      <td>3</td>\n",
       "      <td>145</td>\n",
       "      <td>233</td>\n",
       "      <td>1</td>\n",
       "      <td>0</td>\n",
       "      <td>150</td>\n",
       "      <td>0</td>\n",
       "      <td>2.3</td>\n",
       "      <td>0</td>\n",
       "      <td>0</td>\n",
       "      <td>1</td>\n",
       "      <td>1</td>\n",
       "    </tr>\n",
       "    <tr>\n",
       "      <th>1</th>\n",
       "      <td>37</td>\n",
       "      <td>1</td>\n",
       "      <td>2</td>\n",
       "      <td>130</td>\n",
       "      <td>250</td>\n",
       "      <td>0</td>\n",
       "      <td>1</td>\n",
       "      <td>187</td>\n",
       "      <td>0</td>\n",
       "      <td>3.5</td>\n",
       "      <td>0</td>\n",
       "      <td>0</td>\n",
       "      <td>2</td>\n",
       "      <td>1</td>\n",
       "    </tr>\n",
       "    <tr>\n",
       "      <th>2</th>\n",
       "      <td>41</td>\n",
       "      <td>0</td>\n",
       "      <td>1</td>\n",
       "      <td>130</td>\n",
       "      <td>204</td>\n",
       "      <td>0</td>\n",
       "      <td>0</td>\n",
       "      <td>172</td>\n",
       "      <td>0</td>\n",
       "      <td>1.4</td>\n",
       "      <td>2</td>\n",
       "      <td>0</td>\n",
       "      <td>2</td>\n",
       "      <td>1</td>\n",
       "    </tr>\n",
       "    <tr>\n",
       "      <th>3</th>\n",
       "      <td>56</td>\n",
       "      <td>1</td>\n",
       "      <td>1</td>\n",
       "      <td>120</td>\n",
       "      <td>236</td>\n",
       "      <td>0</td>\n",
       "      <td>1</td>\n",
       "      <td>178</td>\n",
       "      <td>0</td>\n",
       "      <td>0.8</td>\n",
       "      <td>2</td>\n",
       "      <td>0</td>\n",
       "      <td>2</td>\n",
       "      <td>1</td>\n",
       "    </tr>\n",
       "    <tr>\n",
       "      <th>4</th>\n",
       "      <td>57</td>\n",
       "      <td>0</td>\n",
       "      <td>0</td>\n",
       "      <td>120</td>\n",
       "      <td>354</td>\n",
       "      <td>0</td>\n",
       "      <td>1</td>\n",
       "      <td>163</td>\n",
       "      <td>1</td>\n",
       "      <td>0.6</td>\n",
       "      <td>2</td>\n",
       "      <td>0</td>\n",
       "      <td>2</td>\n",
       "      <td>1</td>\n",
       "    </tr>\n",
       "  </tbody>\n",
       "</table>\n",
       "</div>"
      ],
      "text/plain": [
       "   age  sex  chest_pain_type  resting_blood_pressure  cholesterol  \\\n",
       "0   63    1                3                     145          233   \n",
       "1   37    1                2                     130          250   \n",
       "2   41    0                1                     130          204   \n",
       "3   56    1                1                     120          236   \n",
       "4   57    0                0                     120          354   \n",
       "\n",
       "   fasting_blood_sugar  rest_ecg  max_heart_rate_achieved  \\\n",
       "0                    1         0                      150   \n",
       "1                    0         1                      187   \n",
       "2                    0         0                      172   \n",
       "3                    0         1                      178   \n",
       "4                    0         1                      163   \n",
       "\n",
       "   exercise_induced_angina  st_depression  st_slope  num_major_vessels  \\\n",
       "0                        0            2.3         0                  0   \n",
       "1                        0            3.5         0                  0   \n",
       "2                        0            1.4         2                  0   \n",
       "3                        0            0.8         2                  0   \n",
       "4                        1            0.6         2                  0   \n",
       "\n",
       "   thalassemia  target  \n",
       "0            1       1  \n",
       "1            2       1  \n",
       "2            2       1  \n",
       "3            2       1  \n",
       "4            2       1  "
      ]
     },
     "execution_count": 7,
     "metadata": {},
     "output_type": "execute_result"
    }
   ],
   "source": [
    "df.columns = ['age', 'sex', 'chest_pain_type', 'resting_blood_pressure', 'cholesterol', 'fasting_blood_sugar', 'rest_ecg', \n",
    "              'max_heart_rate_achieved', 'exercise_induced_angina', 'st_depression', 'st_slope', 'num_major_vessels', \n",
    "              'thalassemia', 'target']\n",
    "\n",
    "# Print first five rows of the data\n",
    "df.head()"
   ]
  },
  {
   "cell_type": "markdown",
   "id": "2862e0d2",
   "metadata": {},
   "source": [
    "### Train/Test Split\n",
    "Splitting the dataset into training and validation dataset."
   ]
  },
  {
   "cell_type": "code",
   "execution_count": 8,
   "id": "8965752c",
   "metadata": {},
   "outputs": [],
   "source": [
    "# Creating the target and the features column and splitting the dataset into test and train set.\n",
    "X = df.iloc[:, :-1]  \n",
    "y = df.iloc[:, -1]  \n",
    "  \n",
    "# splitting the dataset into training and test set\n",
    "X_train, X_test, y_train, y_test = train_test_split(X, y, test_size=0.25, random_state=0)"
   ]
  },
  {
   "cell_type": "markdown",
   "id": "cbe0c98f",
   "metadata": {},
   "source": [
    "## Training the classifier\n",
    "\n",
    "Now you will fit a [Random Forest classifier](https://scikit-learn.org/stable/modules/generated/sklearn.ensemble.RandomForestClassifier.html) with 20 estimators and compute the [AUC](https://scikit-learn.org/stable/modules/generated/sklearn.metrics.auc.html) achieved:"
   ]
  },
  {
   "cell_type": "code",
   "execution_count": 9,
   "id": "61c5380a",
   "metadata": {},
   "outputs": [
    {
     "data": {
      "text/plain": [
       "0.9189570119802678"
      ]
     },
     "execution_count": 9,
     "metadata": {},
     "output_type": "execute_result"
    }
   ],
   "source": [
    "# Training and fitting a Random Forest Model\n",
    "model_rf = RandomForestClassifier(n_estimators=20, max_depth=5, random_state=0).fit(X_train, y_train)\n",
    "\n",
    "# Making predictions on the test set\n",
    "y_pred = model_rf.predict_proba(X_test)[:, 1]\n",
    "\n",
    "# Print the AUC score achieved by the classifier on the test set\n",
    "fpr, tpr, thresholds = roc_curve(y_test, y_pred)\n",
    "auc(fpr, tpr)"
   ]
  },
  {
   "cell_type": "markdown",
   "id": "60c0a3bb",
   "metadata": {},
   "source": [
    "We now have our model and our predictions. Let’s now explore the different ways by which we can understand the model and its predictions in a more meaningful way. \n",
    "\n",
    "---\n",
    "\n",
    "## Calculating Permutation Feature Importance \n",
    "\n",
    "Permutation Importance works as follows: \n",
    "    \n",
    "* Randomly permutate or shuffle one column in the validation dataset leaving all the other columns intact. \n",
    "* A feature is considered <mark>important</mark> if shuffling its values increases the model error because in this case, the model relied on the feature for the prediction.\n",
    "* On the other hand, a feature is considered <mark>unimportant</mark> if shuffling its values leaves the model error unchanged because in this case, the model ignored the feature. If we find that we have unimportant features then we should really consider removing them from our feature vector.\n",
    "* Finally the features are sorted in descending order based on the importance measure.\n",
    "\n",
    "![](https://imgur.com/S6okz3f.png)\n",
    "\n",
    "Source: [sklearn documentation on permutation Importance](https://scikit-learn.org/stable/modules/generated/sklearn.inspection.permutation_importance.html#sklearn.inspection.permutation_importance)"
   ]
  },
  {
   "cell_type": "code",
   "execution_count": 10,
   "id": "0f50c215",
   "metadata": {},
   "outputs": [],
   "source": [
    "from sklearn.inspection import permutation_importance\n",
    "result = permutation_importance(model_rf, \n",
    "                                X_test, \n",
    "                                y_test,\n",
    "                                n_repeats=30,n_jobs=2,\n",
    "                                random_state=0)"
   ]
  },
  {
   "cell_type": "code",
   "execution_count": 11,
   "id": "607524be",
   "metadata": {},
   "outputs": [
    {
     "data": {
      "text/plain": [
       "array([ 3,  7,  6,  5,  8,  1, 10,  0,  4, 11,  9,  2, 12], dtype=int64)"
      ]
     },
     "execution_count": 11,
     "metadata": {},
     "output_type": "execute_result"
    }
   ],
   "source": [
    "result.importances_mean.argsort()"
   ]
  },
  {
   "cell_type": "markdown",
   "id": "5a05f7a3",
   "metadata": {},
   "source": [
    "## Visualizing the distributionsm"
   ]
  },
  {
   "cell_type": "code",
   "execution_count": 12,
   "id": "acb5ad43",
   "metadata": {},
   "outputs": [
    {
     "data": {
      "image/png": "[encoded data removed]",
      "text/plain": [
       "<Figure size 864x576 with 1 Axes>"
      ]
     },
     "metadata": {},
     "output_type": "display_data"
    }
   ],
   "source": [
    "sorted_idx = result.importances_mean.argsort()\n",
    "\n",
    "fig, ax = plt.subplots()\n",
    "boxplot = ax.boxplot(result.importances[sorted_idx].T,\n",
    "            vert=False, labels=X_test.columns[sorted_idx],patch_artist=True)\n",
    "\n",
    "colors = ['blue', 'green', 'purple', 'tan', 'pink', 'red','blue', 'green', 'purple', 'tan', 'pink', 'red']\n",
    "for patch, color in zip(boxplot['boxes'], colors): \n",
    "    patch.set_facecolor(color) \n",
    "\n",
    "ax.set_title(\"Permutation Importances\")\n",
    "fig.tight_layout()\n",
    "plt.show()"
   ]
  },
  {
   "cell_type": "markdown",
   "id": "fb9f4a08",
   "metadata": {},
   "source": [
    "## Interpretation\n",
    "-   The features at the top are most important and at the bottom, the least. \n",
    "-   The whiskers measures how performance varied from one-reshuffling to the next.\n",
    "-   Some weights are negative. This is because, in those cases, predictions on the shuffled data were found to be more accurate than the real data.\n",
    "\n",
    "---\n",
    "\n",
    "## Advantages \n",
    "    \n",
    "* Model Agnostic\n",
    "* Gives a global overview\n",
    "* Easy to interpret\n",
    "* Doesn’t require model retraining\n",
    "\n",
    "\n",
    "## Drawbacks\n",
    "    \n",
    "* Not clear consensus on whether Test or Training Data should be used.\n",
    "* Correlated features are a problem.\n",
    "* Need access to labelled data\n",
    "* computationally expensive for large datasets"
   ]
  }
 ],
 "metadata": {
  "kernelspec": {
   "display_name": "Python 3 (ipykernel)",
   "language": "python",
   "name": "python3"
  },
  "language_info": {
   "codemirror_mode": {
    "name": "ipython",
    "version": 3
   },
   "file_extension": ".py",
   "mimetype": "text/x-python",
   "name": "python",
   "nbconvert_exporter": "python",
   "pygments_lexer": "ipython3",
   "version": "3.9.7"
  }
 },
 "nbformat": 4,
 "nbformat_minor": 5
}
